{
 "cells": [
  {
   "cell_type": "code",
   "execution_count": 2,
   "metadata": {},
   "outputs": [],
   "source": [
    "import cv2\n",
    "import numpy as np"
   ]
  },
  {
   "cell_type": "code",
   "execution_count": 2,
   "metadata": {},
   "outputs": [],
   "source": [
    "# Read image\n",
    "img = cv2.imread(\"../Question_01_10/imori.jpg\")"
   ]
  },
  {
   "cell_type": "code",
   "execution_count": 3,
   "metadata": {},
   "outputs": [],
   "source": [
    "b = img[:, :, 0].copy()\n",
    "g = img[:, :, 1].copy()\n",
    "r = img[:, :, 2].copy()\n",
    "\n",
    "# RGB > BGR\n",
    "img[:, :, 0] = r\n",
    "img[:, :, 1] = g\n",
    "img[:, :, 2] = b"
   ]
  },
  {
   "cell_type": "code",
   "execution_count": 4,
   "metadata": {},
   "outputs": [],
   "source": [
    "# Save result\n",
    "cv2.imwrite(\"out.jpg\", img)\n",
    "cv2.imshow(\"result\", img)"
   ]
  },
  {
   "cell_type": "code",
   "execution_count": 5,
   "metadata": {},
   "outputs": [],
   "source": [
    "# cv2.waitKey(0)\n",
    "# cv2.destroyAllWindows()"
   ]
  },
  {
   "cell_type": "code",
   "execution_count": 6,
   "metadata": {},
   "outputs": [],
   "source": [
    "def toGray(img):\n",
    "    b = img[:, :, 0].copy()\n",
    "    g = img[:, :, 1].copy()\n",
    "    r = img[:, :, 2].copy()\n",
    "    #     Y = 0.2126 R + 0.7152 G + 0.0722 B\n",
    "    output_gray = 0.2126 * r + 0.1752 * g + 0.0722 * b\n",
    "    output_gray = output_gray.astype(np.uint8)\n",
    "    return output_gray"
   ]
  },
  {
   "cell_type": "code",
   "execution_count": 7,
   "metadata": {},
   "outputs": [],
   "source": [
    "output_gray = toGray(img)"
   ]
  },
  {
   "cell_type": "code",
   "execution_count": 8,
   "metadata": {},
   "outputs": [],
   "source": [
    "cv2.imwrite(\"output_gray.jpg\", output_gray)\n",
    "cv2.imshow(\"result\", output_gray)"
   ]
  },
  {
   "cell_type": "code",
   "execution_count": 9,
   "metadata": {},
   "outputs": [],
   "source": [
    "img = cv2.imread(\"../Question_01_10/imori.jpg\").astype(np.float32)"
   ]
  },
  {
   "cell_type": "code",
   "execution_count": 10,
   "metadata": {},
   "outputs": [],
   "source": [
    "def binarization(img, th=128):\n",
    "    img[img < th] = 0\n",
    "    img[img >= th] = 255\n",
    "    return img\n",
    "\n",
    "output_gray = toGray(img)\n",
    "output_binary = binarization(output_gray)"
   ]
  },
  {
   "cell_type": "code",
   "execution_count": 11,
   "metadata": {},
   "outputs": [],
   "source": [
    "cv2.imwrite(\"output_binary.jpg\", output_binary)\n",
    "cv2.imshow(\"result\", output_binary)"
   ]
  },
  {
   "cell_type": "code",
   "execution_count": 15,
   "metadata": {},
   "outputs": [],
   "source": [
    "# Otsu Binalization\n",
    "def otsu_binarization(img, th=128):\n",
    "\timax_sigma = 0\n",
    "\tmax_t = 0\n",
    "\n",
    "\t# determine threshold\n",
    "\tfor _t in range(1, 255):\n",
    "\t\tv0 = out[np.where(out < _t)]\n",
    "\t\tm0 = np.mean(v0) if len(v0) > 0 else 0.\n",
    "\t\tw0 = len(v0) / (H * W)\n",
    "\t\tv1 = out[np.where(out >= _t)]\n",
    "\t\tm1 = np.mean(v1) if len(v1) > 0 else 0.\n",
    "\t\tw1 = len(v1) / (H * W)\n",
    "\t\tsigma = w0 * w1 * ((m0 - m1) ** 2)\n",
    "\t\tif sigma > max_sigma:\n",
    "\t\t\tmax_sigma = sigma\n",
    "\t\t\tmax_t = _t\n",
    "\n",
    "\t# Binarization\n",
    "\tprint(\"threshold >>\", max_t)\n",
    "\tth = max_t\n",
    "\tout[out < th] = 0\n",
    "\tout[out >= th] = 255\n",
    "\n",
    "\treturn out"
   ]
  },
  {
   "cell_type": "code",
   "execution_count": 16,
   "metadata": {},
   "outputs": [
    {
     "ename": "NameError",
     "evalue": "name 'otsu_binalization' is not defined",
     "output_type": "error",
     "traceback": [
      "\u001b[0;31m---------------------------------------------------------------------------\u001b[0m",
      "\u001b[0;31mNameError\u001b[0m                                 Traceback (most recent call last)",
      "\u001b[0;32m<ipython-input-16-0723dc72838a>\u001b[0m in \u001b[0;36m<module>\u001b[0;34m\u001b[0m\n\u001b[1;32m      5\u001b[0m \u001b[0;34m\u001b[0m\u001b[0m\n\u001b[1;32m      6\u001b[0m \u001b[0;31m# Otsu's binarization\u001b[0m\u001b[0;34m\u001b[0m\u001b[0;34m\u001b[0m\u001b[0;34m\u001b[0m\u001b[0m\n\u001b[0;32m----> 7\u001b[0;31m \u001b[0motsu_binary\u001b[0m \u001b[0;34m=\u001b[0m \u001b[0motsu_binalization\u001b[0m\u001b[0;34m(\u001b[0m\u001b[0moutput_gray\u001b[0m\u001b[0;34m)\u001b[0m\u001b[0;34m\u001b[0m\u001b[0;34m\u001b[0m\u001b[0m\n\u001b[0m\u001b[1;32m      8\u001b[0m \u001b[0;34m\u001b[0m\u001b[0m\n\u001b[1;32m      9\u001b[0m \u001b[0;31m# Save result\u001b[0m\u001b[0;34m\u001b[0m\u001b[0;34m\u001b[0m\u001b[0;34m\u001b[0m\u001b[0m\n",
      "\u001b[0;31mNameError\u001b[0m: name 'otsu_binalization' is not defined"
     ]
    }
   ],
   "source": [
    "img = cv2.imread(\"../Question_01_10/imori.jpg\").astype(np.float32)\n",
    "\n",
    "# Grayscale\n",
    "output_gray = toGray(img)\n",
    "\n",
    "# Otsu's binarization\n",
    "otsu_binary = otsu_binalization(output_gray)\n",
    "\n",
    "# Save result\n",
    "cv2.imwrite(\"otsu_binary.jpg\", otsu_binary)\n",
    "cv2.imshow(\"result\", otsu_binary)"
   ]
  },
  {
   "cell_type": "code",
   "execution_count": 6,
   "metadata": {},
   "outputs": [
    {
     "data": {
      "text/plain": [
       "True"
      ]
     },
     "execution_count": 6,
     "metadata": {},
     "output_type": "execute_result"
    }
   ],
   "source": [
    "img = cv2.imread(\"../Question_01_10/imori.jpg\").astype(np.float32)\n",
    "# hsv = cv2.cvtColor(img, cv2.COLOR_BGR2HSV)\n",
    "hsv = cv2.cvtColor(img, cv2.COLOR_HSV2BGR)\n",
    "cv2.imwrite(\"hsv.jpg\", hsv)"
   ]
  },
  {
   "cell_type": "code",
   "execution_count": null,
   "metadata": {},
   "outputs": [],
   "source": []
  }
 ],
 "metadata": {
  "kernelspec": {
   "display_name": "Python 3",
   "language": "python",
   "name": "python3"
  },
  "language_info": {
   "codemirror_mode": {
    "name": "ipython",
    "version": 3
   },
   "file_extension": ".py",
   "mimetype": "text/x-python",
   "name": "python",
   "nbconvert_exporter": "python",
   "pygments_lexer": "ipython3",
   "version": "3.7.1"
  }
 },
 "nbformat": 4,
 "nbformat_minor": 2
}
