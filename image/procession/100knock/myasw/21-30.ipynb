{
 "cells": [
  {
   "cell_type": "code",
   "execution_count": 1,
   "metadata": {},
   "outputs": [
    {
     "data": {
      "text/plain": [
       "<Figure size 640x480 with 1 Axes>"
      ]
     },
     "metadata": {},
     "output_type": "display_data"
    },
    {
     "data": {
      "text/plain": [
       "True"
      ]
     },
     "execution_count": 1,
     "metadata": {},
     "output_type": "execute_result"
    }
   ],
   "source": [
    "import cv2\n",
    "import numpy as np\n",
    "import matplotlib.pyplot as plt\n",
    "\n",
    "# Read image\n",
    "img = cv2.imread(\"../Question_21_30/imori_dark.jpg\").astype(np.float)\n",
    "H, W, C = img.shape\n",
    "\n",
    "# Trans [0, 255]\n",
    "a, b = 0., 255.\n",
    "\n",
    "c = img.min()\n",
    "d = img.max()\n",
    "\n",
    "out = img.copy()\n",
    "\n",
    "out = (b-a) / (d - c) * (out - c) + a\n",
    "out[out < a] = a\n",
    "out[out > b] = b\n",
    "out = out.astype(np.uint8)\n",
    "\n",
    "# Display histogram\n",
    "plt.hist(out.ravel(), bins=255, rwidth=0.8, range=(0, 255))\n",
    "plt.savefig(\"out_his.png\")\n",
    "plt.show()\n",
    "\n",
    "# Save result\n",
    "cv2.imwrite(\"out.jpg\", out)"
   ]
  },
  {
   "cell_type": "code",
   "execution_count": 3,
   "metadata": {},
   "outputs": [
    {
     "data": {
      "image/png": "[encoded data removed]",
      "text/plain": [
       "<Figure size 432x288 with 1 Axes>"
      ]
     },
     "metadata": {
      "needs_background": "light"
     },
     "output_type": "display_data"
    },
    {
     "data": {
      "text/plain": [
       "True"
      ]
     },
     "execution_count": 3,
     "metadata": {},
     "output_type": "execute_result"
    }
   ],
   "source": [
    "# Histogram flattening\n",
    "S = H * W * C * 1.\n",
    "\n",
    "out = img.copy()\n",
    "\n",
    "sum_h = 0.\n",
    "z_max = 255.\n",
    "\n",
    "for i in range(1, 255):\n",
    "    ind = np.where(img == i)\n",
    "    sum_h += len(img[ind])\n",
    "    z_prime = z_max / S * sum_h\n",
    "    out[ind] = z_prime\n",
    "\n",
    "out = out.astype(np.uint8)\n",
    "\n",
    "# Display histogram\n",
    "plt.hist(out.ravel(), bins=255, rwidth=0.8, range=(0, 255))\n",
    "plt.savefig(\"out_his.png\")\n",
    "plt.show()\n",
    "\n",
    "# Save result\n",
    "cv2.imwrite(\"out.jpg\", out)\n"
   ]
  },
  {
   "cell_type": "code",
   "execution_count": 2,
   "metadata": {},
   "outputs": [
    {
     "data": {
      "text/plain": [
       "True"
      ]
     },
     "execution_count": 2,
     "metadata": {},
     "output_type": "execute_result"
    }
   ],
   "source": [
    "import cv2\n",
    "import numpy as np\n",
    "import matplotlib.pyplot as plt\n",
    "\n",
    "# Read image\n",
    "img = cv2.imread(\"../Question_21_30/imori_gamma.jpg\").astype(np.float)\n",
    "\n",
    "# Gammma correction\n",
    "c = 1.\n",
    "g = 2.2\n",
    "\n",
    "out = img.copy()\n",
    "out /= 255.\n",
    "out = (1/c * out) ** (1/g)\n",
    "\n",
    "out *= 255\n",
    "out = out.astype(np.uint8)\n",
    "\n",
    "# Save result\n",
    "cv2.imwrite(\"out.jpg\", out)"
   ]
  },
  {
   "cell_type": "code",
   "execution_count": 13,
   "metadata": {},
   "outputs": [
    {
     "data": {
      "text/plain": [
       "True"
      ]
     },
     "execution_count": 13,
     "metadata": {},
     "output_type": "execute_result"
    }
   ],
   "source": [
    "# Read image\n",
    "_img = cv2.imread(\"../Question_21_30/imori.jpg\").astype(np.float32)\n",
    "H, W, C = _img.shape\n",
    "\n",
    "\n",
    "# Affine\n",
    "A = 30.\n",
    "theta = - np.pi * A / 180.\n",
    "\n",
    "a = np.cos(theta)\n",
    "b = -np.sin(theta)\n",
    "c = np.sin(theta)\n",
    "d = np.cos(theta)\n",
    "tx = 0\n",
    "ty = 0\n",
    "\n",
    "img = np.zeros((H+2, W+2, C), dtype=np.float32)\n",
    "img[1:H+1, 1:W+1] = _img\n",
    "\n",
    "H_new = np.round(H).astype(np.int)\n",
    "W_new = np.round(W).astype(np.int)\n",
    "out = np.zeros((H_new, W_new, C), dtype=np.float32)\n",
    "\n",
    "x_new = np.tile(np.arange(W_new), (H_new, 1))\n",
    "y_new = np.arange(H_new).repeat(W_new).reshape(H_new, -1)\n",
    "\n",
    "adbc = a * d - b * c\n",
    "x = np.round((d * x_new  - b * y_new) / adbc).astype(np.int) - tx + 1\n",
    "y = np.round((-c * x_new + a * y_new) / adbc).astype(np.int) - ty + 1\n",
    "\n",
    "dcx = (x.max() + x.min()) // 2 - W // 2\n",
    "dcy = (y.max() + y.min()) // 2 - H // 2\n",
    "\n",
    "x -= dcx\n",
    "y -= dcy\n",
    "\n",
    "x = np.minimum(np.maximum(x, 0), W+1).astype(np.int)\n",
    "y = np.minimum(np.maximum(y, 0), H+1).astype(np.int)\n",
    "\n",
    "out[y_new, x_new] = img[y, x]\n",
    "out = out.astype(np.uint8)\n",
    "\n",
    "# Save result\n",
    "cv2.imwrite(\"out.jpg\", out)"
   ]
  },
  {
   "cell_type": "code",
   "execution_count": null,
   "metadata": {},
   "outputs": [],
   "source": []
  }
 ],
 "metadata": {
  "kernelspec": {
   "display_name": "Python 3",
   "language": "python",
   "name": "python3"
  },
  "language_info": {
   "codemirror_mode": {
    "name": "ipython",
    "version": 3
   },
   "file_extension": ".py",
   "mimetype": "text/x-python",
   "name": "python",
   "nbconvert_exporter": "python",
   "pygments_lexer": "ipython3",
   "version": "3.7.1"
  }
 },
 "nbformat": 4,
 "nbformat_minor": 2
}
