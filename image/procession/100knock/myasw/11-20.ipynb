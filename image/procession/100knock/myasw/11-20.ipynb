{
 "cells": [
  {
   "cell_type": "code",
   "execution_count": 1,
   "metadata": {},
   "outputs": [],
   "source": [
    "import cv2\n",
    "import numpy as np\n",
    "\n",
    "# Read image\n",
    "img = cv2.imread(\"../Question_11_20/imori.jpg\")\n",
    "H, W, C = img.shape"
   ]
  },
  {
   "cell_type": "code",
   "execution_count": 2,
   "metadata": {},
   "outputs": [
    {
     "data": {
      "text/plain": [
       "True"
      ]
     },
     "execution_count": 2,
     "metadata": {},
     "output_type": "execute_result"
    }
   ],
   "source": [
    "# Median Filter\n",
    "K_size = 3\n",
    "\n",
    "## Zero padding\n",
    "pad = K_size // 2\n",
    "out = np.zeros((H + pad*2, W + pad*2, C), dtype=np.float)\n",
    "out[pad:pad+H, pad:pad+W] = img.copy().astype(np.float)\n",
    "tmp = out.copy()\n",
    "\n",
    "for y in range(H):\n",
    "    for x in range(W):\n",
    "        for c in range(C):\n",
    "            out[pad+y, pad+x, c] = np.mean(tmp[y:y+K_size, x:x+K_size, c])\n",
    "\n",
    "out = out[pad:pad+H, pad:pad+W].astype(np.uint8)\n",
    "\n",
    "# Save result\n",
    "cv2.imwrite(\"out.jpg\", out)"
   ]
  },
  {
   "cell_type": "code",
   "execution_count": 3,
   "metadata": {},
   "outputs": [],
   "source": [
    "b = img[:, :, 0].copy()\n",
    "g = img[:, :, 1].copy()\n",
    "r = img[:, :, 2].copy()\n",
    "\n",
    "# Gray scale\n",
    "gray = 0.2126 * r + 0.7152 * g + 0.0722 * b\n",
    "gray = gray.astype(np.uint8)\n",
    "\n",
    "# Max-Min Filter\n",
    "K_size = 3\n",
    "\n",
    "## Zero padding\n",
    "pad = K_size // 2\n",
    "out = np.zeros((H + pad*2, W + pad*2), dtype=np.float)\n",
    "out[pad:pad+H, pad:pad+W] = gray.copy().astype(np.float)\n",
    "tmp = out.copy()\n",
    "\n",
    "for y in range(H):\n",
    "    for x in range(W):\n",
    "        out[pad+y, pad+x] = np.max(tmp[y:y+K_size, x:x+K_size]) - np.min(tmp[y:y+K_size, x:x+K_size])\n",
    "\n",
    "out = out[pad:pad+H, pad:pad+W].astype(np.uint8)\n",
    "\n",
    "# Save result\n",
    "cv2.imwrite(\"out.jpg\", out)\n",
    "cv2.imshow(\"result\", out)"
   ]
  },
  {
   "cell_type": "code",
   "execution_count": 5,
   "metadata": {},
   "outputs": [],
   "source": [
    "# sobel Filter\n",
    "K_size = 3\n",
    "\n",
    "## Zero padding\n",
    "pad = K_size // 2\n",
    "out = np.zeros((H + pad*2, W + pad*2), dtype=np.float)\n",
    "out[pad:pad+H, pad:pad+W] = gray.copy().astype(np.float)\n",
    "tmp = out.copy()\n",
    "\n",
    "## Laplacian vertical\n",
    "K = [[0., 1., 0.],[1., -4., 1.], [0., 1., 0.]]\n",
    "\n",
    "for y in range(H):\n",
    "    for x in range(W):\n",
    "        out[pad+y, pad+x] = np.sum(K * (tmp[y:y+K_size, x:x+K_size]))\n",
    "\n",
    "out[out < 0] = 0\n",
    "out[out > 255] = 255\n",
    "\n",
    "out = out[pad:pad+H, pad:pad+W].astype(np.uint8)\n",
    "\n",
    "# Save result\n",
    "cv2.imwrite(\"out.jpg\", out)\n",
    "cv2.imshow(\"result\", out)"
   ]
  },
  {
   "cell_type": "code",
   "execution_count": 6,
   "metadata": {},
   "outputs": [],
   "source": [
    "## Zero padding\n",
    "pad = K_size // 2\n",
    "out = np.zeros((H + pad*2, W + pad*2), dtype=np.float)\n",
    "out[pad:pad+H, pad:pad+W] = gray.copy().astype(np.float)\n",
    "tmp = out.copy()\n",
    "\n",
    "## Emboss vertical\n",
    "K = [[-2., -1., 0.],[-1., 1., 1.], [0., 1., 2.]]\n",
    "\n",
    "for y in range(H):\n",
    "    for x in range(W):\n",
    "        out[pad+y, pad+x] = np.sum(K * (tmp[y:y+K_size, x:x+K_size]))\n",
    "\n",
    "out[out < 0] = 0\n",
    "out[out > 255] = 255\n",
    "\n",
    "out = out[pad:pad+H, pad:pad+W].astype(np.uint8)\n",
    "\n",
    "# Save result\n",
    "cv2.imwrite(\"out.jpg\", out)\n",
    "cv2.imshow(\"result\", out)"
   ]
  },
  {
   "cell_type": "code",
   "execution_count": 7,
   "metadata": {},
   "outputs": [
    {
     "data": {
      "text/plain": [
       "<Figure size 640x480 with 1 Axes>"
      ]
     },
     "metadata": {},
     "output_type": "display_data"
    }
   ],
   "source": [
    "import cv2\n",
    "import numpy as np\n",
    "import matplotlib.pyplot as plt\n",
    "\n",
    "# Read image\n",
    "img = cv2.imread(\"../Question_11_20/imori_dark.jpg\").astype(np.float)\n",
    "\n",
    "# Display histogram\n",
    "plt.hist(img.ravel(), bins=255, rwidth=0.8, range=(0, 255))\n",
    "plt.savefig(\"out.png\")\n",
    "plt.show()"
   ]
  },
  {
   "cell_type": "code",
   "execution_count": null,
   "metadata": {},
   "outputs": [],
   "source": []
  }
 ],
 "metadata": {
  "kernelspec": {
   "display_name": "Python 3",
   "language": "python",
   "name": "python3"
  },
  "language_info": {
   "codemirror_mode": {
    "name": "ipython",
    "version": 3
   },
   "file_extension": ".py",
   "mimetype": "text/x-python",
   "name": "python",
   "nbconvert_exporter": "python",
   "pygments_lexer": "ipython3",
   "version": "3.7.1"
  }
 },
 "nbformat": 4,
 "nbformat_minor": 2
}
